{
  "nbformat": 4,
  "nbformat_minor": 0,
  "metadata": {
    "colab": {
      "provenance": [],
      "gpuType": "T4"
    },
    "kernelspec": {
      "name": "python3",
      "display_name": "Python 3"
    },
    "accelerator": "GPU"
  },
  "cells": [
    {
      "cell_type": "markdown",
      "metadata": {
        "id": "uKrprCrtGUYr"
      },
      "source": [
        "**bold text**# BackgroundMattingV2 Video Matting Example\n",
        "\n",
        "This notebook demonstrates how to use our model for video matting. For more information about our project, please visit [our github repo](https://github.com/PeterL1n/BackgroundMattingV2)."
      ]
    },
    {
      "cell_type": "code",
      "source": [],
      "metadata": {
        "id": "S50KtWIlDEWM"
      },
      "execution_count": null,
      "outputs": []
    },
    {
      "cell_type": "markdown",
      "metadata": {
        "id": "I5cZEZcvBXNP"
      },
      "source": [
        "## Prepare videos\n",
        "\n",
        "You can upload your own video as `src.mp4` and `bgr.png` using the left panel.\n",
        "\n",
        "Or download our example video using the commands below. More example videos are available at [Google Drive](https://drive.google.com/drive/folders/16H6Vz3294J-DEzauw06j4IUARRqYGgRD?usp=sharing) and [Google Drive](https://drive.google.com/drive/folders/1j3BMrRFhFpfzJAe6P2WDtfanoeSCLPiq)."
      ]
    },
    {
      "cell_type": "code",
      "metadata": {
        "id": "WoaMYSpRBRL6"
      },
      "source": [
        "!pip install gdown -q"
      ],
      "execution_count": 1,
      "outputs": []
    },
    {
      "cell_type": "code",
      "metadata": {
        "id": "wmUi0Pl3B_at"
      },
      "source": [
        "!gdown https://drive.google.com/uc?id=1tCEk8FE3WGrr49cdL8qMCqHptMCAtHRU -O /content/src.mp4 -q\n",
        "!gdown https://drive.google.com/uc?id=1wAR3JjnTO60B_DUr7ruIJj0Z2pcIGkyP -O /content/bgr.png -q"
      ],
      "execution_count": 2,
      "outputs": []
    },
    {
      "cell_type": "markdown",
      "metadata": {
        "id": "X6Wnql6VC9sr"
      },
      "source": [
        "## Matting"
      ]
    },
    {
      "cell_type": "markdown",
      "metadata": {
        "id": "LFMf2xRyN2N-"
      },
      "source": [
        "Download model file. Below we download `pytorch_resnet50.pth`. All of our model files are available at [Google Drive](https://drive.google.com/drive/folders/1cbetlrKREitIgjnIikG1HdM4x72FtgBh?usp=sharing)."
      ]
    },
    {
      "cell_type": "code",
      "metadata": {
        "id": "FZcSXSoiNNOu"
      },
      "source": [
        "!gdown https://drive.google.com/uc?id=1ErIAsB_miVhYL9GDlYUmfbqlV293mSYf -O model.pth -q"
      ],
      "execution_count": 3,
      "outputs": []
    },
    {
      "cell_type": "code",
      "metadata": {
        "colab": {
          "base_uri": "https://localhost:8080/"
        },
        "id": "8NUspY9nMZXF",
        "outputId": "a79b0fb9-ed49-47a0-acc9-f022139f932f"
      },
      "source": [
        "!git clone -q https://github.com/PeterL1n/BackgroundMattingV2\n",
        "%cd BackgroundMattingV2"
      ],
      "execution_count": 4,
      "outputs": [
        {
          "output_type": "stream",
          "name": "stdout",
          "text": [
            "/content/BackgroundMattingV2\n"
          ]
        }
      ]
    },
    {
      "cell_type": "markdown",
      "metadata": {
        "id": "rDn33_xrOJew"
      },
      "source": [
        "Use the `inference_video.py` script for converting videos.\n",
        "\n",
        "More advanced cases:\n",
        "\n",
        "*   If you want to export as image sequences instead of videos, add `--output-format image_sequences` flag.\n",
        "*   If your video is handheld, add `--preprocess-alignment` flag.\n",
        "*   Below script will output `com` composition, `pha` alpha, `fgr` foreground, `err` error prediction map, and `ref` refinement selection map. If you just want the final results, feel free to remove those outputs for faster conversion speed.\n",
        "\n",
        "*Note: The conversion script in python only uses CPU encoding/decoding and incurs additional cost for CPU-GPU data transfering. Therefore it is not real-time.*\n"
      ]
    },
    {
      "cell_type": "code",
      "metadata": {
        "id": "2UrkyB5jMbOk",
        "colab": {
          "base_uri": "https://localhost:8080/"
        },
        "outputId": "1b45a333-62af-459b-a05d-a4e0dc1473de"
      },
      "source": [
        "!python inference_video.py \\\n",
        "        --model-type mattingrefine \\\n",
        "        --model-backbone resnet50 \\\n",
        "        --model-backbone-scale 0.25 \\\n",
        "        --model-refine-mode sampling \\\n",
        "        --model-refine-sample-pixels 80000 \\\n",
        "        --model-checkpoint \"/content/model.pth\" \\\n",
        "        --video-src \"/content/human22.mp4\" \\\n",
        "        --video-bgr \"/content/human.png\" \\\n",
        "        --output-dir \"/content/output/\" \\\n",
        "        --output-type com fgr pha err ref"
      ],
      "execution_count": 7,
      "outputs": [
        {
          "output_type": "stream",
          "name": "stdout",
          "text": [
            "Directory /content/output/ already exists. Override? [Y/N]: Y\n",
            "100% 152/152 [00:42<00:00,  3.54it/s]\n"
          ]
        }
      ]
    },
    {
      "cell_type": "code",
      "source": [
        "from google.colab import files\n",
        "import shutil\n",
        "\n",
        "# Make a zip archive of the whole content\n",
        "shutil.make_archive('colab_content', 'zip', '.')\n",
        "\n",
        "# Download it\n",
        "files.download('colab_content.zip')\n",
        "\n"
      ],
      "metadata": {
        "colab": {
          "base_uri": "https://localhost:8080/",
          "height": 17
        },
        "id": "sFoJV5e2A-Fc",
        "outputId": "4f861e96-43ef-43cf-f79f-462b12648079"
      },
      "execution_count": 8,
      "outputs": [
        {
          "output_type": "display_data",
          "data": {
            "text/plain": [
              "<IPython.core.display.Javascript object>"
            ],
            "application/javascript": [
              "\n",
              "    async function download(id, filename, size) {\n",
              "      if (!google.colab.kernel.accessAllowed) {\n",
              "        return;\n",
              "      }\n",
              "      const div = document.createElement('div');\n",
              "      const label = document.createElement('label');\n",
              "      label.textContent = `Downloading \"${filename}\": `;\n",
              "      div.appendChild(label);\n",
              "      const progress = document.createElement('progress');\n",
              "      progress.max = size;\n",
              "      div.appendChild(progress);\n",
              "      document.body.appendChild(div);\n",
              "\n",
              "      const buffers = [];\n",
              "      let downloaded = 0;\n",
              "\n",
              "      const channel = await google.colab.kernel.comms.open(id);\n",
              "      // Send a message to notify the kernel that we're ready.\n",
              "      channel.send({})\n",
              "\n",
              "      for await (const message of channel.messages) {\n",
              "        // Send a message to notify the kernel that we're ready.\n",
              "        channel.send({})\n",
              "        if (message.buffers) {\n",
              "          for (const buffer of message.buffers) {\n",
              "            buffers.push(buffer);\n",
              "            downloaded += buffer.byteLength;\n",
              "            progress.value = downloaded;\n",
              "          }\n",
              "        }\n",
              "      }\n",
              "      const blob = new Blob(buffers, {type: 'application/binary'});\n",
              "      const a = document.createElement('a');\n",
              "      a.href = window.URL.createObjectURL(blob);\n",
              "      a.download = filename;\n",
              "      div.appendChild(a);\n",
              "      a.click();\n",
              "      div.remove();\n",
              "    }\n",
              "  "
            ]
          },
          "metadata": {}
        },
        {
          "output_type": "display_data",
          "data": {
            "text/plain": [
              "<IPython.core.display.Javascript object>"
            ],
            "application/javascript": [
              "download(\"download_caf673f7-ec8c-4636-a6d7-03bd6d5fe744\", \"colab_content.zip\", 5812549)"
            ]
          },
          "metadata": {}
        }
      ]
    },
    {
      "cell_type": "code",
      "source": [],
      "metadata": {
        "id": "F1Ii7j0fLc16"
      },
      "execution_count": null,
      "outputs": []
    }
  ]
}